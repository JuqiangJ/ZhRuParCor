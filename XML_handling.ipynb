{
 "cells": [
  {
   "cell_type": "code",
   "execution_count": 4,
   "metadata": {
    "collapsed": true
   },
   "outputs": [],
   "source": [
    "import lxml.etree as ET\n",
    "import re, os, lxml.html, time\n",
    "txt_ru = \"Привет!\"\n",
    "txt_zh = \"你好!\"\n",
    "para = ET.Element(\"para\")\n",
    "ET.SubElement(para, \"se\", lang=\"ru\").text = txt_ru\n",
    "zh = ET.SubElement(para, \"se\", lang=\"zh\")\n",
    "zh2 = ET.SubElement(para, \"se\", lang=\"zh2\")"
   ]
  },
  {
   "cell_type": "code",
   "execution_count": 5,
   "metadata": {
    "collapsed": false
   },
   "outputs": [],
   "source": [
    "el = ET.SubElement(zh, 'w')\n",
    "ana = ET.SubElement(el, 'ana', lex='dsfjkldsjf')\n",
    "ana.tail = txt_zh[0]"
   ]
  },
  {
   "cell_type": "code",
   "execution_count": 6,
   "metadata": {
    "collapsed": false
   },
   "outputs": [
    {
     "data": {
      "text/plain": [
       "b'<para>\\n  <se lang=\"ru\">&#1055;&#1088;&#1080;&#1074;&#1077;&#1090;!</se>\\n  <se lang=\"zh\">\\n    <w><ana lex=\"dsfjkldsjf\"/>&#20320;</w>\\n  </se>\\n  <se lang=\"zh2\"/>\\n</para>\\n'"
      ]
     },
     "execution_count": 6,
     "metadata": {},
     "output_type": "execute_result"
    }
   ],
   "source": [
    "ET.tostring(para, pretty_print=True)"
   ]
  },
  {
   "cell_type": "code",
   "execution_count": null,
   "metadata": {
    "collapsed": true
   },
   "outputs": [],
   "source": []
  }
 ],
 "metadata": {
  "kernelspec": {
   "display_name": "Python 3",
   "language": "python",
   "name": "python3"
  },
  "language_info": {
   "codemirror_mode": {
    "name": "ipython",
    "version": 3
   },
   "file_extension": ".py",
   "mimetype": "text/x-python",
   "name": "python",
   "nbconvert_exporter": "python",
   "pygments_lexer": "ipython3",
   "version": "3.5.2"
  }
 },
 "nbformat": 4,
 "nbformat_minor": 1
}
